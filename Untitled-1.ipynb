{
 "cells": [
  {
   "cell_type": "markdown",
   "metadata": {},
   "source": [
    "# 리스트(list)"
   ]
  },
  {
   "cell_type": "code",
   "execution_count": 27,
   "metadata": {},
   "outputs": [
    {
     "ename": "TypeError",
     "evalue": "'list' object is not callable",
     "output_type": "error",
     "traceback": [
      "\u001b[1;31m---------------------------------------------------------------------------\u001b[0m",
      "\u001b[1;31mTypeError\u001b[0m                                 Traceback (most recent call last)",
      "Cell \u001b[1;32mIn [27], line 2\u001b[0m\n\u001b[0;32m      1\u001b[0m mylist \u001b[39m=\u001b[39m [\u001b[39m\"\u001b[39m\u001b[39mapple\u001b[39m\u001b[39m\"\u001b[39m,\u001b[39m\"\u001b[39m\u001b[39mbanana\u001b[39m\u001b[39m\"\u001b[39m,\u001b[39m\"\u001b[39m\u001b[39mcherry\u001b[39m\u001b[39m\"\u001b[39m]\n\u001b[1;32m----> 2\u001b[0m l \u001b[39m=\u001b[39m \u001b[39mlist\u001b[39;49m()\n\u001b[0;32m      3\u001b[0m \u001b[39mprint\u001b[39m(\u001b[39mtype\u001b[39m(l))\n\u001b[0;32m      4\u001b[0m \u001b[39mprint\u001b[39m(l)\n",
      "\u001b[1;31mTypeError\u001b[0m: 'list' object is not callable"
     ]
    }
   ],
   "source": [
    "mylist = [\"apple\",\"banana\",\"cherry\"]\n",
    "l = list()\n",
    "print(type(l))\n",
    "print(l)\n",
    "\n",
    "l = ['핫도그', '계란', '닭가슴살','']\n",
    "print(type(l))\n",
    "print(l)\n",
    "\n",
    "l = list(['핫도그'])"
   ]
  },
  {
   "cell_type": "code",
   "execution_count": null,
   "metadata": {},
   "outputs": [
    {
     "name": "stdout",
     "output_type": "stream",
     "text": [
      "치킨\n"
     ]
    },
    {
     "ename": "AttributeError",
     "evalue": "'list' object has no attribute 'length'",
     "output_type": "error",
     "traceback": [
      "\u001b[1;31m---------------------------------------------------------------------------\u001b[0m",
      "\u001b[1;31mAttributeError\u001b[0m                            Traceback (most recent call last)",
      "Cell \u001b[1;32mIn [51], line 5\u001b[0m\n\u001b[0;32m      3\u001b[0m l \u001b[39m=\u001b[39m [\u001b[39m'\u001b[39m\u001b[39m핫도그\u001b[39m\u001b[39m'\u001b[39m,\u001b[39m'\u001b[39m\u001b[39m햄버거\u001b[39m\u001b[39m'\u001b[39m,\u001b[39m'\u001b[39m\u001b[39m치킨\u001b[39m\u001b[39m'\u001b[39m]\n\u001b[0;32m      4\u001b[0m \u001b[39mprint\u001b[39m(l[\u001b[39m-\u001b[39m\u001b[39m1\u001b[39m])\n\u001b[1;32m----> 5\u001b[0m \u001b[39mprint\u001b[39m(l[\u001b[39m-\u001b[39ml\u001b[39m.\u001b[39;49mlength])\n",
      "\u001b[1;31mAttributeError\u001b[0m: 'list' object has no attribute 'length'"
     ]
    }
   ],
   "source": [
    "# 리스트 항목접근\n",
    "\n",
    "l = ['핫도그','햄버거','치킨']\n",
    "print(l[-1])\n",
    "print(l[-l.length])"
   ]
  },
  {
   "cell_type": "code",
   "execution_count": null,
   "metadata": {},
   "outputs": [
    {
     "name": "stdout",
     "output_type": "stream",
     "text": [
      "['핫도그', '햄버거']\n",
      "['핫도그']\n",
      "<generator object <genexpr> at 0x000001DB2874A490>\n"
     ]
    }
   ],
   "source": [
    "# slicing\n",
    "print(l[:2])\n",
    "print(l[-4:1])\n",
    "print( l[i] for i in range(0,len(l),2))\n",
    "\n"
   ]
  },
  {
   "cell_type": "code",
   "execution_count": null,
   "metadata": {},
   "outputs": [
    {
     "name": "stdout",
     "output_type": "stream",
     "text": [
      "1 <class 'int'>\n",
      "3.14 <class 'float'>\n",
      "a <class 'str'>\n",
      "ab <class 'str'>\n",
      "['hey', 'hi'] <class 'list'>\n",
      "{12352, 12353, 1234} <class 'set'>\n",
      "(1+2j) <class 'complex'>\n"
     ]
    }
   ],
   "source": [
    "#리스트의 데이터항목은 여러가지 데이터 타입이 혼용될수 있음\n",
    "mixed_list = [1,3.14,'a',\"ab\",list(['hey','hi']),{1234,12352,12353},1 + 2j]\n",
    "for i in mixed_list:\n",
    "    print(i, type(i))"
   ]
  },
  {
   "cell_type": "code",
   "execution_count": null,
   "metadata": {},
   "outputs": [
    {
     "ename": "TypeError",
     "evalue": "insert expected 2 arguments, got 0",
     "output_type": "error",
     "traceback": [
      "\u001b[1;31m---------------------------------------------------------------------------\u001b[0m",
      "\u001b[1;31mTypeError\u001b[0m                                 Traceback (most recent call last)",
      "Cell \u001b[1;32mIn [30], line 3\u001b[0m\n\u001b[0;32m      1\u001b[0m \u001b[39m# list specity method\u001b[39;00m\n\u001b[0;32m      2\u001b[0m food \u001b[39m=\u001b[39m [\u001b[39m'\u001b[39m\u001b[39m햄버거\u001b[39m\u001b[39m'\u001b[39m,\u001b[39m'\u001b[39m\u001b[39m치킨\u001b[39m\u001b[39m'\u001b[39m,\u001b[39m'\u001b[39m\u001b[39m떡볶이\u001b[39m\u001b[39m'\u001b[39m,\u001b[39m'\u001b[39m\u001b[39m마라탕\u001b[39m\u001b[39m'\u001b[39m,\u001b[39m'\u001b[39m\u001b[39m피자\u001b[39m\u001b[39m'\u001b[39m]\n\u001b[1;32m----> 3\u001b[0m food\u001b[39m.\u001b[39;49minsert()\n\u001b[0;32m      5\u001b[0m \u001b[39mif\u001b[39;00m \u001b[39m'\u001b[39m\u001b[39m햄버거\u001b[39m\u001b[39m'\u001b[39m \u001b[39mand\u001b[39;00m \u001b[39m'\u001b[39m\u001b[39m마라탕\u001b[39m\u001b[39m'\u001b[39m \u001b[39min\u001b[39;00m food :\n\u001b[0;32m      6\u001b[0m     \u001b[39mprint\u001b[39m(\u001b[39m\"\u001b[39m\u001b[39misOk\u001b[39m\u001b[39m\"\u001b[39m)\n",
      "\u001b[1;31mTypeError\u001b[0m: insert expected 2 arguments, got 0"
     ]
    }
   ],
   "source": [
    "# list specity method\n",
    "food = ['햄버거','치킨','떡볶이','마라탕','피자']\n",
    "\n",
    "if '햄버거' and '마라탕' in food :\n",
    "    print(\"isOk\")\n"
   ]
  },
  {
   "cell_type": "code",
   "execution_count": null,
   "metadata": {},
   "outputs": [
    {
     "name": "stdout",
     "output_type": "stream",
     "text": [
      "2346687595520\n",
      "2346687595520\n",
      "['햄버거', '라면', '치킨', '떡볶이', '마라탕', '피자', '밥']\n"
     ]
    }
   ],
   "source": [
    "# list specity method\n",
    "food = ['햄버거','치킨','떡볶이','마라탕','피자']\n",
    "print(id(food))\n",
    "food.append('밥')\n",
    "food.insert(1,'라면')\n",
    "print(id(food))\n",
    "print(food)"
   ]
  },
  {
   "cell_type": "code",
   "execution_count": null,
   "metadata": {},
   "outputs": [
    {
     "ename": "SyntaxError",
     "evalue": "invalid syntax (4048522545.py, line 20)",
     "output_type": "error",
     "traceback": [
      "\u001b[1;36m  Cell \u001b[1;32mIn [6], line 20\u001b[1;36m\u001b[0m\n\u001b[1;33m    del food[0]j\u001b[0m\n\u001b[1;37m               ^\u001b[0m\n\u001b[1;31mSyntaxError\u001b[0m\u001b[1;31m:\u001b[0m invalid syntax\n"
     ]
    }
   ],
   "source": [
    "food = ['햄버거','치킨','떡볶이','마라탕','피자']\n",
    "\n",
    "# value 로 삭제\n",
    "food.remove('치킨')\n",
    "print(food)\n",
    "\n",
    "# pop \n",
    "food.pop()\n",
    "print(food)\n",
    "\n",
    "# indexing pop\n",
    "food.pop(-len(food))\n",
    "print(food)\n",
    "food.pop(-len(food))\n",
    "# all clear\n",
    "food.clear()\n",
    "print(food)\n",
    "food.append('123')\n",
    "# del(food)\n",
    "del food[0]\n",
    "# print(food)"
   ]
  },
  {
   "cell_type": "code",
   "execution_count": null,
   "metadata": {},
   "outputs": [],
   "source": [
    "# 문제 : del 은리스트에 대해서만 작동하는가 ? \n",
    "x = 10 \n",
    "s = \"asdf\"\n",
    "del(x)\n",
    "del s"
   ]
  },
  {
   "cell_type": "code",
   "execution_count": null,
   "metadata": {},
   "outputs": [
    {
     "name": "stdout",
     "output_type": "stream",
     "text": [
      "<class 'list'>\n",
      "<class 'NoneType'>\n"
     ]
    }
   ],
   "source": [
    "# [] vs None \n",
    "list = [None]\n",
    "nlist = None\n",
    "print(type(list))\n",
    "print(type(nlist))"
   ]
  },
  {
   "cell_type": "code",
   "execution_count": null,
   "metadata": {},
   "outputs": [
    {
     "name": "stdout",
     "output_type": "stream",
     "text": [
      "org list : [2, 2, 3, 4, 5]\n",
      "org id = 2346708305728 vs copy_list = 2346708305728\n"
     ]
    }
   ],
   "source": [
    "## 복사 \n",
    "# 결론 : l_cpy = l_org 를 참조하고있음 \n",
    "org_list = [1,2,3,4,5]\n",
    "copy_list = org_list\n",
    "\n",
    "copy_list[0] = 2\n",
    "print(f'org list : {org_list}') # [2,2,3,4,5]\n",
    "print(f'org id = {id(org_list)} vs copy_list = {id(copy_list)}')\n"
   ]
  },
  {
   "cell_type": "code",
   "execution_count": 28,
   "metadata": {},
   "outputs": [
    {
     "name": "stdout",
     "output_type": "stream",
     "text": [
      "[[1, 2, 3], [4, 5]] [[1, 2, 3], [4, 5]]\n",
      "copy list : [2, [4, 5]]\n",
      "org list : [[1, 2, 3], [4, 5]]\n",
      "org id = 2346708647680 vs copy_list = 2346708731648\n"
     ]
    }
   ],
   "source": [
    "## 얕은복사복사 \n",
    "# 결론 : l_cpy = l_org 를 참조하고있음 \n",
    "\n",
    "org_list = [[1,2,3],[4,5]]\n",
    "copy_list = org_list.copy()\n",
    "print(org_list , copy_list)\n",
    "\n",
    "copy_list[0] = 2\n",
    "print(f'copy list : {copy_list}') # [2,2,3,4,5]\n",
    "print(f'org list : {org_list}') # [2,2,3,4,5]\n",
    "print(f'org id = {id(org_list)} vs copy_list = {id(copy_list)}')"
   ]
  },
  {
   "cell_type": "code",
   "execution_count": 36,
   "metadata": {},
   "outputs": [
    {
     "name": "stdout",
     "output_type": "stream",
     "text": [
      "[1, 2, 3, 4]\n",
      "[1, 2, 3, 4]\n"
     ]
    }
   ],
   "source": [
    "# 두리스트 합치기\n",
    "l = [1,2]\n",
    "l2 = [3,4]\n",
    "print(l + l2)\n",
    "\n",
    "# l.append(l2)\n",
    "# print(l)  # [1,2,[3,4]]\n",
    "\n",
    "for x in l2:\n",
    "    l.append(x)\n",
    "print(l)\n"
   ]
  },
  {
   "cell_type": "code",
   "execution_count": 38,
   "metadata": {},
   "outputs": [
    {
     "name": "stdout",
     "output_type": "stream",
     "text": [
      "['busy', 'easy', 'symphony']\n"
     ]
    }
   ],
   "source": [
    "l1 = ['busy','bass','easy','as']\n",
    "l2 = ['buzzy','aws','symphony','fuzy']\n",
    "# sy\n",
    "l = [] \n",
    "\n",
    "for i in l1 + l2:\n",
    "    if 'sy' in i :\n",
    "        l.append(i)\n",
    "\n",
    "print(l)"
   ]
  },
  {
   "cell_type": "code",
   "execution_count": 51,
   "metadata": {},
   "outputs": [
    {
     "name": "stdout",
     "output_type": "stream",
     "text": [
      "[32, 32, 32, 23, 5, 123, 45, 231, 2314, 1234, 5, 4, 3, 2, 1]\n",
      "[1, 2, 3, 4, 5, 1234, 2314, 231, 45, 123, 5, 23, 32, 32, 32]\n"
     ]
    }
   ],
   "source": [
    "l = [1,2,3,4,5,1234,2314,231,45,123,5,23,32,32,32]\n",
    "j = 0\n",
    "for i in range(len(l)-1,0, -1):\n",
    "    if(j >= i): break;\n",
    "    tmp = l[j]\n",
    "    l[j] = l[i]\n",
    "    l[i] = tmp\n",
    "    j = j + 1\n",
    "\n",
    "print(l)\n",
    "\n",
    "\n",
    "     \n",
    "    \n",
    "l.reverse()\n",
    "print(l)"
   ]
  }
 ],
 "metadata": {
  "kernelspec": {
   "display_name": "Python 3.10.8 64-bit",
   "language": "python",
   "name": "python3"
  },
  "language_info": {
   "codemirror_mode": {
    "name": "ipython",
    "version": 3
   },
   "file_extension": ".py",
   "mimetype": "text/x-python",
   "name": "python",
   "nbconvert_exporter": "python",
   "pygments_lexer": "ipython3",
   "version": "3.10.8"
  },
  "orig_nbformat": 4,
  "vscode": {
   "interpreter": {
    "hash": "c9a422b4b93cb00b284bc7a42242dde588c072e323783e8ec8947408e890054a"
   }
  }
 },
 "nbformat": 4,
 "nbformat_minor": 2
}
