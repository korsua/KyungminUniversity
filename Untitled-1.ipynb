{
 "cells": [
  {
   "cell_type": "code",
   "execution_count": 26,
   "metadata": {},
   "outputs": [
    {
     "name": "stdout",
     "output_type": "stream",
     "text": [
      "<class 'dict'>\n",
      "5\n",
      "{1: '123', 2: '123', 3: '123', 4: '123', 6: 'name'}\n",
      "<class 'list'>\n"
     ]
    }
   ],
   "source": [
    "d = {1 : \"123\",2 : \"123\",3 : \"123\",4 : \"123\"}\n",
    "d[6] = \"name\" # 이게 추가 \n",
    "l = list()\n",
    "l = [1,1,2]\n",
    "print(type(d))\n",
    "print(len(d))\n",
    "print(d)\n",
    "print(type(l))"
   ]
  },
  {
   "cell_type": "code",
   "execution_count": 154,
   "metadata": {},
   "outputs": [
    {
     "name": "stdout",
     "output_type": "stream",
     "text": [
      "False\n",
      "(1, 2, 3)\n",
      "()\n",
      "True\n",
      "True\n",
      "{'이름': '배수아', 'age': 23} {'이름': '배수아', 'age': 23}\n",
      "False\n",
      "False\n",
      "{'이름': '배수아', 'age': 23} {'이름': '배수아'}\n",
      "(1, 2, 3)\n",
      "(3, 2)\n",
      "1\n",
      "2\n",
      "3\n",
      "2\n",
      "index :  2\n"
     ]
    }
   ],
   "source": [
    "\n",
    "import copy\n",
    "\n",
    "t = tuple()\n",
    "t2 = t\n",
    "t = tuple((1,2,3))\n",
    "print(t is t2)\n",
    "\n",
    "print(t)\n",
    "print(t2)\n",
    "d = {'이름' : '배수아'}\n",
    "d2 = d\n",
    "\n",
    "print(d is d2) # expect true\n",
    "\n",
    "d['age'] = 23\n",
    "\n",
    "print(d is d2) # expect true\n",
    "print(d, d2)\n",
    "\n",
    "# mutable  = set ,dict , lsit\n",
    "\n",
    "d = {'이름' : '배수아'}\n",
    "d2 = copy.copy(d) # deepcopy \n",
    "\n",
    "print(d is d2) # expect true\n",
    "\n",
    "d['age'] = 23\n",
    "\n",
    "print(d is d2) # expect true\n",
    "print(d, d2)\n",
    "print(t)\n",
    "print(t[len(t)+1: 0: -1])\n",
    "\n",
    "\n",
    "for i in t:\n",
    "    print(i)\n",
    "\n",
    "# count()\n",
    "t = ('김경민','깅경민','경민','김경문','김경민')\n",
    "print(t.count('김경민'))\n",
    "\n",
    "print('index : ' ,t.index('경민'))\n",
    "t.\n",
    "\n"
   ]
  }
 ],
 "metadata": {
  "kernelspec": {
   "display_name": "Python 3.10.7 64-bit",
   "language": "python",
   "name": "python3"
  },
  "language_info": {
   "codemirror_mode": {
    "name": "ipython",
    "version": 3
   },
   "file_extension": ".py",
   "mimetype": "text/x-python",
   "name": "python",
   "nbconvert_exporter": "python",
   "pygments_lexer": "ipython3",
   "version": "3.10.7"
  },
  "orig_nbformat": 4,
  "vscode": {
   "interpreter": {
    "hash": "c9a422b4b93cb00b284bc7a42242dde588c072e323783e8ec8947408e890054a"
   }
  }
 },
 "nbformat": 4,
 "nbformat_minor": 2
}
