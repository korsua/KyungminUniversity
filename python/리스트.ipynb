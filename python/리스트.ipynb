{
 "cells": [
  {
   "cell_type": "markdown",
   "metadata": {},
   "source": [
    "# 리스트(list)"
   ]
  },
  {
   "cell_type": "code",
   "execution_count": 27,
   "metadata": {},
   "outputs": [
    {
     "ename": "TypeError",
     "evalue": "'list' object is not callable",
     "output_type": "error",
     "traceback": [
      "\u001b[1;31m---------------------------------------------------------------------------\u001b[0m",
      "\u001b[1;31mTypeError\u001b[0m                                 Traceback (most recent call last)",
      "Cell \u001b[1;32mIn [27], line 2\u001b[0m\n\u001b[0;32m      1\u001b[0m mylist \u001b[39m=\u001b[39m [\u001b[39m\"\u001b[39m\u001b[39mapple\u001b[39m\u001b[39m\"\u001b[39m,\u001b[39m\"\u001b[39m\u001b[39mbanana\u001b[39m\u001b[39m\"\u001b[39m,\u001b[39m\"\u001b[39m\u001b[39mcherry\u001b[39m\u001b[39m\"\u001b[39m]\n\u001b[1;32m----> 2\u001b[0m l \u001b[39m=\u001b[39m \u001b[39mlist\u001b[39;49m()\n\u001b[0;32m      3\u001b[0m \u001b[39mprint\u001b[39m(\u001b[39mtype\u001b[39m(l))\n\u001b[0;32m      4\u001b[0m \u001b[39mprint\u001b[39m(l)\n",
      "\u001b[1;31mTypeError\u001b[0m: 'list' object is not callable"
     ]
    }
   ],
   "source": [
    "mylist = [\"apple\",\"banana\",\"cherry\"]\n",
    "l = list()\n",
    "print(type(l))\n",
    "print(l)\n",
    "\n",
    "l = ['핫도그', '계란', '닭가슴살','']\n",
    "print(type(l))\n",
    "print(l)\n",
    "\n",
    "l = list(['핫도그'])"
   ]
  },
  {
   "cell_type": "code",
   "execution_count": null,
   "metadata": {},
   "outputs": [
    {
     "name": "stdout",
     "output_type": "stream",
     "text": [
      "치킨\n"
     ]
    },
    {
     "ename": "AttributeError",
     "evalue": "'list' object has no attribute 'length'",
     "output_type": "error",
     "traceback": [
      "\u001b[1;31m---------------------------------------------------------------------------\u001b[0m",
      "\u001b[1;31mAttributeError\u001b[0m                            Traceback (most recent call last)",
      "Cell \u001b[1;32mIn [51], line 5\u001b[0m\n\u001b[0;32m      3\u001b[0m l \u001b[39m=\u001b[39m [\u001b[39m'\u001b[39m\u001b[39m핫도그\u001b[39m\u001b[39m'\u001b[39m,\u001b[39m'\u001b[39m\u001b[39m햄버거\u001b[39m\u001b[39m'\u001b[39m,\u001b[39m'\u001b[39m\u001b[39m치킨\u001b[39m\u001b[39m'\u001b[39m]\n\u001b[0;32m      4\u001b[0m \u001b[39mprint\u001b[39m(l[\u001b[39m-\u001b[39m\u001b[39m1\u001b[39m])\n\u001b[1;32m----> 5\u001b[0m \u001b[39mprint\u001b[39m(l[\u001b[39m-\u001b[39ml\u001b[39m.\u001b[39;49mlength])\n",
      "\u001b[1;31mAttributeError\u001b[0m: 'list' object has no attribute 'length'"
     ]
    }
   ],
   "source": [
    "# 리스트 항목접근\n",
    "\n",
    "l = ['핫도그','햄버거','치킨']\n",
    "print(l[-1])\n",
    "print(l[-l.length])"
   ]
  },
  {
   "cell_type": "code",
   "execution_count": null,
   "metadata": {},
   "outputs": [
    {
     "name": "stdout",
     "output_type": "stream",
     "text": [
      "['핫도그', '햄버거']\n",
      "['핫도그']\n",
      "<generator object <genexpr> at 0x000001DB2874A490>\n"
     ]
    }
   ],
   "source": [
    "# slicing\n",
    "print(l[:2])\n",
    "print(l[-4:1])\n",
    "print( l[i] for i in range(0,len(l),2))\n",
    "\n"
   ]
  },
  {
   "cell_type": "code",
   "execution_count": null,
   "metadata": {},
   "outputs": [
    {
     "name": "stdout",
     "output_type": "stream",
     "text": [
      "1 <class 'int'>\n",
      "3.14 <class 'float'>\n",
      "a <class 'str'>\n",
      "ab <class 'str'>\n",
      "['hey', 'hi'] <class 'list'>\n",
      "{12352, 12353, 1234} <class 'set'>\n",
      "(1+2j) <class 'complex'>\n"
     ]
    }
   ],
   "source": [
    "#리스트의 데이터항목은 여러가지 데이터 타입이 혼용될수 있음\n",
    "mixed_list = [1,3.14,'a',\"ab\",list(['hey','hi']),{1234,12352,12353},1 + 2j]\n",
    "for i in mixed_list:\n",
    "    print(i, type(i))"
   ]
  },
  {
   "cell_type": "code",
   "execution_count": null,
   "metadata": {},
   "outputs": [
    {
     "ename": "TypeError",
     "evalue": "insert expected 2 arguments, got 0",
     "output_type": "error",
     "traceback": [
      "\u001b[1;31m---------------------------------------------------------------------------\u001b[0m",
      "\u001b[1;31mTypeError\u001b[0m                                 Traceback (most recent call last)",
      "Cell \u001b[1;32mIn [30], line 3\u001b[0m\n\u001b[0;32m      1\u001b[0m \u001b[39m# list specity method\u001b[39;00m\n\u001b[0;32m      2\u001b[0m food \u001b[39m=\u001b[39m [\u001b[39m'\u001b[39m\u001b[39m햄버거\u001b[39m\u001b[39m'\u001b[39m,\u001b[39m'\u001b[39m\u001b[39m치킨\u001b[39m\u001b[39m'\u001b[39m,\u001b[39m'\u001b[39m\u001b[39m떡볶이\u001b[39m\u001b[39m'\u001b[39m,\u001b[39m'\u001b[39m\u001b[39m마라탕\u001b[39m\u001b[39m'\u001b[39m,\u001b[39m'\u001b[39m\u001b[39m피자\u001b[39m\u001b[39m'\u001b[39m]\n\u001b[1;32m----> 3\u001b[0m food\u001b[39m.\u001b[39;49minsert()\n\u001b[0;32m      5\u001b[0m \u001b[39mif\u001b[39;00m \u001b[39m'\u001b[39m\u001b[39m햄버거\u001b[39m\u001b[39m'\u001b[39m \u001b[39mand\u001b[39;00m \u001b[39m'\u001b[39m\u001b[39m마라탕\u001b[39m\u001b[39m'\u001b[39m \u001b[39min\u001b[39;00m food :\n\u001b[0;32m      6\u001b[0m     \u001b[39mprint\u001b[39m(\u001b[39m\"\u001b[39m\u001b[39misOk\u001b[39m\u001b[39m\"\u001b[39m)\n",
      "\u001b[1;31mTypeError\u001b[0m: insert expected 2 arguments, got 0"
     ]
    }
   ],
   "source": [
    "# list specity method\n",
    "food = ['햄버거','치킨','떡볶이','마라탕','피자']\n",
    "\n",
    "if '햄버거' and '마라탕' in food :\n",
    "    print(\"isOk\")\n"
   ]
  },
  {
   "cell_type": "code",
   "execution_count": null,
   "metadata": {},
   "outputs": [
    {
     "name": "stdout",
     "output_type": "stream",
     "text": [
      "2346687595520\n",
      "2346687595520\n",
      "['햄버거', '라면', '치킨', '떡볶이', '마라탕', '피자', '밥']\n"
     ]
    }
   ],
   "source": [
    "# list specity method\n",
    "food = ['햄버거','치킨','떡볶이','마라탕','피자']\n",
    "print(id(food))\n",
    "food.append('밥')\n",
    "food.insert(1,'라면')\n",
    "print(id(food))\n",
    "print(food)"
   ]
  },
  {
   "cell_type": "code",
   "execution_count": null,
   "metadata": {},
   "outputs": [
    {
     "ename": "SyntaxError",
     "evalue": "invalid syntax (4048522545.py, line 20)",
     "output_type": "error",
     "traceback": [
      "\u001b[1;36m  Cell \u001b[1;32mIn [6], line 20\u001b[1;36m\u001b[0m\n\u001b[1;33m    del food[0]j\u001b[0m\n\u001b[1;37m               ^\u001b[0m\n\u001b[1;31mSyntaxError\u001b[0m\u001b[1;31m:\u001b[0m invalid syntax\n"
     ]
    }
   ],
   "source": [
    "food = ['햄버거','치킨','떡볶이','마라탕','피자']\n",
    "\n",
    "# value 로 삭제\n",
    "food.remove('치킨')\n",
    "print(food)\n",
    "\n",
    "# pop \n",
    "food.pop()\n",
    "print(food)\n",
    "\n",
    "# indexing pop\n",
    "food.pop(-len(food))\n",
    "print(food)\n",
    "food.pop(-len(food))\n",
    "# all clear\n",
    "food.clear()\n",
    "print(food)\n",
    "food.append('123')\n",
    "# del(food)\n",
    "del food[0]\n",
    "# print(food)"
   ]
  },
  {
   "cell_type": "code",
   "execution_count": null,
   "metadata": {},
   "outputs": [],
   "source": [
    "# 문제 : del 은리스트에 대해서만 작동하는가 ? \n",
    "x = 10 \n",
    "s = \"asdf\"\n",
    "del(x)\n",
    "del s"
   ]
  },
  {
   "cell_type": "code",
   "execution_count": null,
   "metadata": {},
   "outputs": [
    {
     "name": "stdout",
     "output_type": "stream",
     "text": [
      "<class 'list'>\n",
      "<class 'NoneType'>\n"
     ]
    }
   ],
   "source": [
    "# [] vs None \n",
    "list = [None]\n",
    "nlist = None\n",
    "print(type(list))\n",
    "print(type(nlist))"
   ]
  },
  {
   "cell_type": "code",
   "execution_count": null,
   "metadata": {},
   "outputs": [
    {
     "name": "stdout",
     "output_type": "stream",
     "text": [
      "org list : [2, 2, 3, 4, 5]\n",
      "org id = 2346708305728 vs copy_list = 2346708305728\n"
     ]
    }
   ],
   "source": [
    "## 복사 \n",
    "# 결론 : l_cpy = l_org 를 참조하고있음 \n",
    "org_list = [1,2,3,4,5]\n",
    "copy_list = org_list\n",
    "\n",
    "copy_list[0] = 2\n",
    "print(f'org list : {org_list}') # [2,2,3,4,5]\n",
    "print(f'org id = {id(org_list)} vs copy_list = {id(copy_list)}')\n"
   ]
  },
  {
   "cell_type": "code",
   "execution_count": 28,
   "metadata": {},
   "outputs": [
    {
     "name": "stdout",
     "output_type": "stream",
     "text": [
      "[[1, 2, 3], [4, 5]] [[1, 2, 3], [4, 5]]\n",
      "copy list : [2, [4, 5]]\n",
      "org list : [[1, 2, 3], [4, 5]]\n",
      "org id = 2346708647680 vs copy_list = 2346708731648\n"
     ]
    }
   ],
   "source": [
    "## 얕은복사복사 \n",
    "# 결론 : l_cpy = l_org 를 참조하고있음 \n",
    "\n",
    "org_list = [[1,2,3],[4,5]]\n",
    "copy_list = org_list.copy()\n",
    "print(org_list , copy_list)\n",
    "\n",
    "copy_list[0] = 2\n",
    "print(f'copy list : {copy_list}') # [2,2,3,4,5]\n",
    "print(f'org list : {org_list}') # [2,2,3,4,5]\n",
    "print(f'org id = {id(org_list)} vs copy_list = {id(copy_list)}')"
   ]
  },
  {
   "cell_type": "code",
   "execution_count": 36,
   "metadata": {},
   "outputs": [
    {
     "name": "stdout",
     "output_type": "stream",
     "text": [
      "[1, 2, 3, 4]\n",
      "[1, 2, 3, 4]\n"
     ]
    }
   ],
   "source": [
    "# 두리스트 합치기\n",
    "l = [1,2]\n",
    "l2 = [3,4]\n",
    "print(l + l2)\n",
    "\n",
    "# l.append(l2)\n",
    "# print(l)  # [1,2,[3,4]]\n",
    "\n",
    "for x in l2:\n",
    "    l.append(x)\n",
    "print(l)\n"
   ]
  },
  {
   "cell_type": "code",
   "execution_count": 38,
   "metadata": {},
   "outputs": [
    {
     "name": "stdout",
     "output_type": "stream",
     "text": [
      "['busy', 'easy', 'symphony']\n"
     ]
    }
   ],
   "source": [
    "l1 = ['busy','bass','easy','as']\n",
    "l2 = ['buzzy','aws','symphony','fuzy']\n",
    "# sy\n",
    "l = [] \n",
    "\n",
    "for i in l1 + l2:\n",
    "    if 'sy' in i :\n",
    "        l.append(i)\n",
    "\n",
    "print(l)"
   ]
  },
  {
   "cell_type": "code",
   "execution_count": 71,
   "metadata": {},
   "outputs": [
    {
     "name": "stdout",
     "output_type": "stream",
     "text": [
      "[32, 32, 32, 23, 5, 123, 45, 231, 2314, 1234, 5, 4, 3, 2, 1]\n",
      "[1, 2, 3, 4, 5, 1234, 2314, 231, 45, 123, 5, 23, 32, 32, 32]\n"
     ]
    }
   ],
   "source": [
    "l = [1,2,3,4,5,1234,2314,231,45,123,5,23,32,32,32]\n",
    "right = 0\n",
    "for left in range(len(l)-1,0,-1):\n",
    "    if(right >= left): break;\n",
    "    tmp = l[right]\n",
    "    l[right] = l[left]\n",
    "    l[left] = tmp\n",
    "    right = right + 1\n",
    "\n",
    "print(l)\n",
    "\n",
    "\n",
    "     \n",
    "    \n",
    "l.reverse()\n",
    "print(l)"
   ]
  },
  {
   "cell_type": "code",
   "execution_count": null,
   "metadata": {},
   "outputs": [],
   "source": [
    "t = (\"김경민\", \"컴퓨터 소프트웨어\", 2, 4.0,2)\n",
    "if \"김경민\" and \"컴퓨터 소프트웨어\" in t:\n",
    "    print(\"김경민은 컴퓨터 소프트웨어과에 있습니다.\")\n",
    "    "
   ]
  },
  {
   "cell_type": "code",
   "execution_count": null,
   "metadata": {},
   "outputs": [],
   "source": [
    "# 튜블 함수 사용 : count()\n",
    "t = (\"김경민\", \"컴퓨터 소프트웨어\", 2, 4.0,2)\n",
    "cnt = t.count(\"김경민\")\n",
    "print(cnt)\n",
    "\n",
    "cnt = t.count(2)\n",
    "print(cnt)\n"
   ]
  },
  {
   "cell_type": "code",
   "execution_count": null,
   "metadata": {},
   "outputs": [],
   "source": [
    "# 튜플 함수 사용 : index()\n",
    "t = (\"김경민\", \"컴퓨터 소프트웨어\", 2, 4.0,2)\n",
    "idx = t.index(\"컴퓨터 소프트웨어\")\n",
    "print(idx)\n",
    "\n",
    "idx = t.index(2)\n",
    "print(idx)"
   ]
  },
  {
   "cell_type": "code",
   "execution_count": 7,
   "metadata": {},
   "outputs": [
    {
     "name": "stdout",
     "output_type": "stream",
     "text": [
      "('김경민', '컴퓨터 소프트웨어', 2, 4.0, 2)\n"
     ]
    },
    {
     "ename": "NameError",
     "evalue": "name 't' is not defined",
     "output_type": "error",
     "traceback": [
      "\u001b[1;31m---------------------------------------------------------------------------\u001b[0m",
      "\u001b[1;31mNameError\u001b[0m                                 Traceback (most recent call last)",
      "Cell \u001b[1;32mIn [7], line 4\u001b[0m\n\u001b[0;32m      2\u001b[0m \u001b[39mprint\u001b[39m(t)\n\u001b[0;32m      3\u001b[0m \u001b[39mdel\u001b[39;00m t\n\u001b[1;32m----> 4\u001b[0m \u001b[39mprint\u001b[39m(t)\n",
      "\u001b[1;31mNameError\u001b[0m: name 't' is not defined"
     ]
    }
   ],
   "source": [
    "t = (\"김경민\", \"컴퓨터 소프트웨어\", 2, 4.0,2)\n",
    "print(t)\n",
    "del t\n",
    "#print(t) name 't' is not defined, 변수 t자체가 삭제됨"
   ]
  },
  {
   "cell_type": "code",
   "execution_count": 10,
   "metadata": {},
   "outputs": [
    {
     "name": "stdout",
     "output_type": "stream",
     "text": [
      "('김경민', '컴퓨터 소프트웨어', 2, 4.0, 2)\n"
     ]
    }
   ],
   "source": [
    "# 튜플 합치기\n",
    "t1 = (\"김경민\", \"컴퓨터 소프트웨어\")\n",
    "t2 = (2,4.0,2)\n",
    "t = t1 + t2\n",
    "print(t)"
   ]
  },
  {
   "cell_type": "code",
   "execution_count": 39,
   "metadata": {},
   "outputs": [
    {
     "name": "stdout",
     "output_type": "stream",
     "text": [
      "인터넷정보 를 찾을수 없습니다.\n",
      "2\n",
      "3\n",
      "5\n",
      "6\n"
     ]
    }
   ],
   "source": [
    "# 문제 dept = \"인터넷정보\" 일때 \n",
    "# t = (\"깅경민\",\"컴퓨터소프트웨어학과\",2,4.0,2)에 대해서\n",
    "# dept 에 저장된 값의 인덱스를 살펴보고자 한다.\n",
    "t = (\"깅경민\",\"컴퓨터소프트웨어학과\",2,2,4.0,2,2)\n",
    "dept = \"인터넷정보\"\n",
    "if dept in t :\n",
    "    print(t.index(dept))\n",
    "else :\n",
    "    print(f\"{dept} 를 찾을수 없습니다.\")\n",
    "\n",
    "#문제 모든ㅇ ㅣㄴ덱스 탐색\n",
    "j = 0\n",
    "target = 2\n",
    "for i in range(len(t)) :\n",
    "    if( not (target in t[j:])):  break;\n",
    "    j = t.index(target,j,len(t))\n",
    "    print(j)\n",
    "    j += 1;\n",
    "\n"
   ]
  },
  {
   "cell_type": "code",
   "execution_count": 41,
   "metadata": {},
   "outputs": [
    {
     "name": "stdout",
     "output_type": "stream",
     "text": [
      "{}\n",
      "{}\n",
      "{'19831031': {'name': '배수아', 'dept': '컴퓨터소프트웨어학과', 'year': 2, 'greade': 4.0}, '12345930': {'name': '이용호', 'dept': '컴퓨터소프트웨어학과', 'year': 2, 'greade': 4.1}}\n"
     ]
    }
   ],
   "source": [
    "# 빈 딕셔너리\n",
    "d ={}\n",
    "d_braket = dict()\n",
    "print(d)\n",
    "print(d_braket)\n",
    "\n",
    "student = {\n",
    "    \"19831031\" :{\n",
    "        \"name\" : \"배수아\",\n",
    "        \"dept\" : \"컴퓨터소프트웨어학과\",\n",
    "        \"year\" : 2,\n",
    "        \"greade\" : 4.0\n",
    "    },\n",
    "    \"12345930\" : {\n",
    "        \"name\" : \"이용호\",\n",
    "        \"dept\" : \"컴퓨터소프트웨어학과\",\n",
    "        \"year\" : 2, \"greade\" : 4.1\n",
    "    }\n",
    "}\n",
    "print(student)"
   ]
  },
  {
   "cell_type": "code",
   "execution_count": 9,
   "metadata": {},
   "outputs": [
    {
     "name": "stdout",
     "output_type": "stream",
     "text": [
      "red,blue,green,\n"
     ]
    }
   ],
   "source": [
    "colors = ['red','blue','green','yellow']\n",
    "\n",
    "result = ''\n",
    "for s in colors:\n",
    "    result += s\n",
    "    if colors.index(s) < len(colors)-1:\n",
    "        result += \",\"\n",
    "print(result)\n",
    "    "
   ]
  },
  {
   "cell_type": "code",
   "execution_count": 13,
   "metadata": {},
   "outputs": [
    {
     "name": "stdout",
     "output_type": "stream",
     "text": [
      "red,blue,green,yellow\n"
     ]
    }
   ],
   "source": [
    "result = ','.join(colors)\n",
    "print(result)"
   ]
  },
  {
   "cell_type": "code",
   "execution_count": 14,
   "metadata": {},
   "outputs": [
    {
     "name": "stdout",
     "output_type": "stream",
     "text": [
      "['zero', 'one', 'two', 'three']\n"
     ]
    }
   ],
   "source": [
    "items = \"zero one two three\"\n",
    "\n",
    "l = []\n",
    "s = ''\n",
    "for c in items:\n",
    "    if(c != ' '):\n",
    "        s += c\n",
    "    else:\n",
    "        l.append(s)\n",
    "        s=''\n",
    "else:\n",
    "    l.append(s)\n",
    "\n",
    "print(l)"
   ]
  },
  {
   "cell_type": "code",
   "execution_count": 16,
   "metadata": {},
   "outputs": [
    {
     "name": "stdout",
     "output_type": "stream",
     "text": [
      "['zero', 'one', 'two', 'three']\n"
     ]
    }
   ],
   "source": [
    "l = items.split()\n",
    "print(l)"
   ]
  },
  {
   "cell_type": "code",
   "execution_count": 18,
   "metadata": {},
   "outputs": [
    {
     "name": "stdout",
     "output_type": "stream",
     "text": [
      "zero one two three\n",
      "<class 'str'>\n"
     ]
    }
   ],
   "source": [
    "items = 'zero,one,two,three'\n",
    "a,b,c,d = items.split(',')\n",
    "print(a,b,c,d)\n",
    "print(type(a))"
   ]
  },
  {
   "cell_type": "code",
   "execution_count": 66,
   "metadata": {},
   "outputs": [
    {
     "name": "stdout",
     "output_type": "stream",
     "text": [
      "www\n",
      "kyungmin\n",
      "ac.kr\n"
     ]
    }
   ],
   "source": [
    "# 문제: 우리 대학 웹주소를 subdomain, domain, tld(top level domain)로 구분해 보아라\n",
    "#                           www      kyungmin   ac.kr\n",
    "website = \"http://www.kyungmin.ac.kr\"\n",
    "\n",
    "subdomain,domain,tld = website.split(\".\", 2)\n",
    "\n",
    "subdomain = subdomain.split(\"//\")\n",
    "subdomain = subdomain[1]\n",
    "\n",
    "print(subdomain)\n",
    "print(domain)\n",
    "print(tld)"
   ]
  },
  {
   "cell_type": "code",
   "execution_count": 67,
   "metadata": {},
   "outputs": [
    {
     "name": "stdout",
     "output_type": "stream",
     "text": [
      "[0, 1, 2, 3, 4, 5, 6, 7, 8, 9]\n"
     ]
    }
   ],
   "source": [
    "l = []\n",
    "for i in range(10):\n",
    "    l.append(i)\n",
    "print(l)"
   ]
  },
  {
   "cell_type": "code",
   "execution_count": 68,
   "metadata": {},
   "outputs": [
    {
     "name": "stdout",
     "output_type": "stream",
     "text": [
      "[0, 1, 2, 3, 4, 5, 6, 7, 8, 9]\n"
     ]
    }
   ],
   "source": [
    "l = [i for i in range(10)]\n",
    "print(l)"
   ]
  },
  {
   "cell_type": "code",
   "execution_count": 69,
   "metadata": {},
   "outputs": [
    {
     "name": "stdout",
     "output_type": "stream",
     "text": [
      "[0, 2, 4, 6, 8]\n"
     ]
    }
   ],
   "source": [
    "l = []\n",
    "for i in range(10):\n",
    "    if i % 2 == 0:\n",
    "        l.append(i)\n",
    "print(l)"
   ]
  },
  {
   "cell_type": "code",
   "execution_count": 70,
   "metadata": {},
   "outputs": [
    {
     "name": "stdout",
     "output_type": "stream",
     "text": [
      "[0, 2, 4, 6, 8]\n"
     ]
    }
   ],
   "source": [
    "l = [i for i in range(10) if i % 2 == 0]\n",
    "print(l)"
   ]
  },
  {
   "cell_type": "code",
   "execution_count": 71,
   "metadata": {},
   "outputs": [
    {
     "name": "stdout",
     "output_type": "stream",
     "text": [
      "[0, '*', 2, '*', 4, '*', 6, '*', 8, '*']\n"
     ]
    }
   ],
   "source": [
    "l = [i if i % 2 == 0 else '*' for i in range(10)]\n",
    "print(l)"
   ]
  },
  {
   "cell_type": "code",
   "execution_count": 72,
   "metadata": {},
   "outputs": [
    {
     "name": "stdout",
     "output_type": "stream",
     "text": [
      "['HW', 'Ho', 'Hr', 'Hl', 'Hd', 'eW', 'eo', 'er', 'el', 'ed', 'lW', 'lo', 'lr', 'll', 'ld', 'lW', 'lo', 'lr', 'll', 'ld', 'oW', 'oo', 'or', 'ol', 'od']\n"
     ]
    }
   ],
   "source": [
    "w1 = \"Hello\"\n",
    "w2 = \"World\"\n",
    "l = [i + j for i in w1 for j in w2]\n",
    "print(l)"
   ]
  },
  {
   "cell_type": "code",
   "execution_count": 73,
   "metadata": {},
   "outputs": [
    {
     "name": "stdout",
     "output_type": "stream",
     "text": [
      "['AC', 'AE', 'BA', 'BC', 'BE', 'CA', 'CE']\n"
     ]
    }
   ],
   "source": [
    "l1 = ['A', 'B', 'C']\n",
    "l2 = ['A', 'C', 'E']\n",
    "l = [c1 + c2 for c1 in l1 for c2 in l2 if c1 != c2]\n",
    "print(l)"
   ]
  },
  {
   "cell_type": "code",
   "execution_count": 75,
   "metadata": {},
   "outputs": [
    {
     "name": "stdout",
     "output_type": "stream",
     "text": [
      "[['THE', 'the', 3], ['QUICK', 'quick', 5], ['BROWN', 'brown', 5], ['FOX', 'fox', 3], ['JUMPS', 'jumps', 5], ['OVER', 'over', 4], ['THE', 'the', 3], ['LAZY', 'lazy', 4], ['DOG', 'dog', 3]]\n"
     ]
    }
   ],
   "source": [
    "words = \"The quick brown fox jumps over the lazy dog\"\n",
    "\n",
    "l = [[s.upper(),s.lower(),len(s)] for s in words.split()]\n",
    "print(l)"
   ]
  },
  {
   "cell_type": "code",
   "execution_count": 76,
   "metadata": {},
   "outputs": [
    {
     "name": "stdout",
     "output_type": "stream",
     "text": [
      "{0: '경민대학은', 1: '의정부에', 2: '위치한', 3: '명문', 4: '대학이다'}\n"
     ]
    }
   ],
   "source": [
    "s = \"경민대학은 의정부에 위치한 명문 대학이다\"\n",
    "\n",
    "index = 0\n",
    "d = dict()\n",
    "for w in s.split():\n",
    "    d[index] = w\n",
    "    index += 1\n",
    "print(d)"
   ]
  },
  {
   "cell_type": "code",
   "execution_count": 77,
   "metadata": {},
   "outputs": [
    {
     "name": "stdout",
     "output_type": "stream",
     "text": [
      "{0: '경민대학은', 1: '의정부에', 2: '위치한', 3: '명문', 4: '대학이다'}\n"
     ]
    }
   ],
   "source": [
    "d = {index:value for index, value in enumerate(s.split())} \n",
    "print(d)"
   ]
  },
  {
   "cell_type": "code",
   "execution_count": 81,
   "metadata": {},
   "outputs": [
    {
     "name": "stdout",
     "output_type": "stream",
     "text": [
      "Hello, 햄스터\n",
      "안녕 파이썬?\n",
      "{'name': '김경민', 'age': 22, 'height': 180, 'weight': 73}\n"
     ]
    }
   ],
   "source": [
    "import mymodule as hamster\n",
    "hamster.greeting(\"햄스터\")\n",
    "print(hamster.greeting_message)\n"
   ]
  },
  {
   "cell_type": "code",
   "execution_count": 82,
   "metadata": {},
   "outputs": [
    {
     "name": "stdout",
     "output_type": "stream",
     "text": [
      "Windows\n"
     ]
    }
   ],
   "source": [
    "import platform\n",
    "\n",
    "x = platform.system()\n",
    "print(x)"
   ]
  },
  {
   "cell_type": "code",
   "execution_count": 84,
   "metadata": {},
   "outputs": [
    {
     "name": "stdout",
     "output_type": "stream",
     "text": [
      "['_Processor', '_WIN32_CLIENT_RELEASES', '_WIN32_SERVER_RELEASES', '__builtins__', '__cached__', '__copyright__', '__doc__', '__file__', '__loader__', '__name__', '__package__', '__spec__', '__version__', '_comparable_version', '_component_re', '_default_architecture', '_follow_symlinks', '_get_machine_win32', '_ironpython26_sys_version_parser', '_ironpython_sys_version_parser', '_java_getprop', '_libc_search', '_mac_ver_xml', '_node', '_norm_version', '_os_release_cache', '_os_release_candidates', '_os_release_line', '_os_release_unescape', '_parse_os_release', '_platform', '_platform_cache', '_pypy_sys_version_parser', '_sys_version', '_sys_version_cache', '_sys_version_parser', '_syscmd_file', '_syscmd_ver', '_uname_cache', '_unknown_as_blank', '_ver_output', '_ver_stages', 'architecture', 'collections', 'freedesktop_os_release', 'functools', 'itertools', 'java_ver', 'libc_ver', 'mac_ver', 'machine', 'node', 'os', 'platform', 'processor', 'python_branch', 'python_build', 'python_compiler', 'python_implementation', 'python_revision', 'python_version', 'python_version_tuple', 're', 'release', 'subprocess', 'sys', 'system', 'system_alias', 'uname', 'uname_result', 'version', 'win32_edition', 'win32_is_iot', 'win32_ver']\n"
     ]
    }
   ],
   "source": [
    "import platform\n",
    "\n",
    "x = dir(platform)\n",
    "print(x)"
   ]
  },
  {
   "cell_type": "code",
   "execution_count": 86,
   "metadata": {},
   "outputs": [
    {
     "name": "stdout",
     "output_type": "stream",
     "text": [
      "22\n"
     ]
    },
    {
     "ename": "NameError",
     "evalue": "name 'mymodule' is not defined",
     "output_type": "error",
     "traceback": [
      "\u001b[1;31m---------------------------------------------------------------------------\u001b[0m",
      "\u001b[1;31mNameError\u001b[0m                                 Traceback (most recent call last)",
      "Cell \u001b[1;32mIn [86], line 4\u001b[0m\n\u001b[0;32m      1\u001b[0m \u001b[39mfrom\u001b[39;00m \u001b[39mmymodule\u001b[39;00m \u001b[39mimport\u001b[39;00m person\n\u001b[0;32m      3\u001b[0m \u001b[39mprint\u001b[39m(person[\u001b[39m\"\u001b[39m\u001b[39mage\u001b[39m\u001b[39m\"\u001b[39m])\n\u001b[1;32m----> 4\u001b[0m \u001b[39mprint\u001b[39m(mymodule\u001b[39m.\u001b[39mgreeting_message)\n",
      "\u001b[1;31mNameError\u001b[0m: name 'mymodule' is not defined"
     ]
    }
   ],
   "source": [
    "from mymodule import person\n",
    "\n",
    "print(person[\"age\"])"
   ]
  }
 ],
 "metadata": {
  "kernelspec": {
   "display_name": "Python 3.10.8 64-bit",
   "language": "python",
   "name": "python3"
  },
  "language_info": {
   "codemirror_mode": {
    "name": "ipython",
    "version": 3
   },
   "file_extension": ".py",
   "mimetype": "text/x-python",
   "name": "python",
   "nbconvert_exporter": "python",
   "pygments_lexer": "ipython3",
   "version": "3.10.8"
  },
  "orig_nbformat": 4,
  "vscode": {
   "interpreter": {
    "hash": "c9a422b4b93cb00b284bc7a42242dde588c072e323783e8ec8947408e890054a"
   }
  }
 },
 "nbformat": 4,
 "nbformat_minor": 2
}
