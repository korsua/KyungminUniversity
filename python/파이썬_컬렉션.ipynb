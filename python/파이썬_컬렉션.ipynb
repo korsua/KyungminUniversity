{
 "cells": [
  {
   "cell_type": "code",
   "execution_count": 33,
   "metadata": {},
   "outputs": [
    {
     "name": "stdout",
     "output_type": "stream",
     "text": [
      "red,green,blue,yellow\n",
      "red:green:blue:yellow\n"
     ]
    }
   ],
   "source": [
    "    \n",
    "class animal:\n",
    "    def bark(): \n",
    "        print(\"bark\")\n",
    "\n",
    "class dog(animal):\n",
    "    def bark():\n",
    "        print(\"mung\")\n",
    "        \n",
    "colors = ['red', 'green', 'blue', 'yellow']\n",
    "\n",
    "result = ''\n",
    "\n",
    "for s in colors:\n",
    "    result += s + ',' \n",
    "    \n",
    "# print(result.strip()[0:len(result)-1])\n",
    "print(result.removesuffix(\",\"))\n",
    "\n",
    "print(':'.join(colors))\n",
    "\n"
   ]
  },
  {
   "cell_type": "code",
   "execution_count": 32,
   "metadata": {},
   "outputs": [
    {
     "name": "stdout",
     "output_type": "stream",
     "text": [
      "['red', 'green', 'blue', 'yellow']\n"
     ]
    }
   ],
   "source": [
    "list = \"red,green,blue,yellow\".split(',')\n",
    "print(list)"
   ]
  },
  {
   "cell_type": "code",
   "execution_count": 58,
   "metadata": {},
   "outputs": [
    {
     "name": "stdout",
     "output_type": "stream",
     "text": [
      "http://www.kyungmin.ac.kr\n",
      "www kyungmin ac.kr ['www', 'kyungmin', 'ac.kr']\n"
     ]
    }
   ],
   "source": [
    "website =\"http://www.kyungmin.ac.kr\"\n",
    "\n",
    "print(website)\n",
    "\n",
    "data = website.split(\"//\")[1].split('.',2)\n",
    "for i in data:\n",
    "    print(i , end=\" \")\n",
    "\n",
    "website = website.removeprefix(\"http://\")\n",
    "data = website.split('.',2)\n",
    "print(data)"
   ]
  },
  {
   "cell_type": "markdown",
   "metadata": {},
   "source": [
    "# list 컴프리핸션\n",
    "5\n",
    "69 "
   ]
  },
  {
   "cell_type": "code",
   "execution_count": 64,
   "metadata": {},
   "outputs": [
    {
     "name": "stdout",
     "output_type": "stream",
     "text": [
      "{0: '경민대학은', 1: '어쩌구', 2: '저저꾸', 3: '이다.', 4: 'ㅇㅇ'}\n"
     ]
    }
   ],
   "source": [
    "s = \"경민대학은 어쩌구 저저꾸 이다. ㅇㅇ\"\n",
    "dict = dict()\n",
    "for index , c in enumerate(s.split()):\n",
    "    dict[index] = c\n",
    "print(dict)\n",
    "\n",
    "d = {index:value for index,value in enumerate(s.split())}\n",
    "print(d)"
   ]
  }
 ],
 "metadata": {
  "kernelspec": {
   "display_name": "Python 3.10.8 64-bit (microsoft store)",
   "language": "python",
   "name": "python3"
  },
  "language_info": {
   "codemirror_mode": {
    "name": "ipython",
    "version": 3
   },
   "file_extension": ".py",
   "mimetype": "text/x-python",
   "name": "python",
   "nbconvert_exporter": "python",
   "pygments_lexer": "ipython3",
   "version": "3.10.8"
  },
  "orig_nbformat": 4,
  "vscode": {
   "interpreter": {
    "hash": "40ea231ce006ed65b013ba3e9b5a48267321b4d32b910ea3a649228a606377c3"
   }
  }
 },
 "nbformat": 4,
 "nbformat_minor": 2
}
