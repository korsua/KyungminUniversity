{
 "cells": [
  {
   "cell_type": "code",
   "execution_count": 29,
   "metadata": {},
   "outputs": [
    {
     "name": "stdout",
     "output_type": "stream",
     "text": [
      "300\n",
      "20000\n",
      "calc\n",
      "__main__\n"
     ]
    }
   ],
   "source": [
    "# if __name__ == '__main__': 이해\n",
    "import calc \n",
    "\n",
    "# calc의 if __name__ ... 부분이 실행되지 않음 \n",
    "print(calc.add(100,200))\n",
    "print(calc.mul(100,200))\n",
    "calc.print_name()\n",
    "print(__name__)"
   ]
  },
  {
   "cell_type": "code",
   "execution_count": null,
   "metadata": {},
   "outputs": [
    {
     "name": "stdout",
     "output_type": "stream",
     "text": [
      "300\n",
      "20000\n",
      "calc\n",
      "__main__\n"
     ]
    }
   ],
   "source": [
    "# if __name__ == '__main__': 이해\n",
    "import calc as c\n",
    "\n",
    "# calc의 if __name__ ... 부분이 실행되지 않음 \n",
    "print(c.add(100,200))\n",
    "print(c.mul(100,200))\n",
    "c.print_name()\n",
    "print(__name__)"
   ]
  },
  {
   "cell_type": "code",
   "execution_count": 34,
   "metadata": {},
   "outputs": [
    {
     "name": "stdout",
     "output_type": "stream",
     "text": [
      "30\n"
     ]
    }
   ],
   "source": [
    "from calc import mul \n",
    "\n",
    "print(mul(10,20))"
   ]
  }
 ],
 "metadata": {
  "kernelspec": {
   "display_name": "Python 3.10.8 64-bit",
   "language": "python",
   "name": "python3"
  },
  "language_info": {
   "codemirror_mode": {
    "name": "ipython",
    "version": 3
   },
   "file_extension": ".py",
   "mimetype": "text/x-python",
   "name": "python",
   "nbconvert_exporter": "python",
   "pygments_lexer": "ipython3",
   "version": "3.10.8"
  },
  "orig_nbformat": 4,
  "vscode": {
   "interpreter": {
    "hash": "c9a422b4b93cb00b284bc7a42242dde588c072e323783e8ec8947408e890054a"
   }
  }
 },
 "nbformat": 4,
 "nbformat_minor": 2
}
